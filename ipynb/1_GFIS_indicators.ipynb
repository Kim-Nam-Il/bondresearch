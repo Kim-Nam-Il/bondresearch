{
 "cells": [
  {
   "cell_type": "markdown",
   "id": "66b590fb-8584-4f19-aff9-af06a6af3583",
   "metadata": {},
   "source": [
    "# GFIS Bond Composite Indicators"
   ]
  }
 ],
 "metadata": {
  "kernelspec": {
   "display_name": "Python 3 (ipykernel)",
   "language": "python",
   "name": "python3"
  },
  "language_info": {
   "codemirror_mode": {
    "name": "ipython",
    "version": 3
   },
   "file_extension": ".py",
   "mimetype": "text/x-python",
   "name": "python",
   "nbconvert_exporter": "python",
   "pygments_lexer": "ipython3",
   "version": "3.11.4"
  }
 },
 "nbformat": 4,
 "nbformat_minor": 5
}
